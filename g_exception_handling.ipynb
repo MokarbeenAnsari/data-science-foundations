{
 "cells": [
  {
   "cell_type": "markdown",
   "id": "273d7847-cf25-4a0e-b4bd-a7e3e215847d",
   "metadata": {},
   "source": [
    "## Exception Handling/Error in Python\n",
    "When an error occurs, or exception as we call it, Python will normally stop and generate an error message."
   ]
  },
  {
   "cell_type": "markdown",
   "id": "e073d558-3d35-4935-a4d9-ad51366ca36b",
   "metadata": {},
   "source": [
    "### Example"
   ]
  },
  {
   "cell_type": "code",
   "execution_count": 1,
   "id": "91500fc1-4c5d-4033-a19e-57135e5b4e3f",
   "metadata": {},
   "outputs": [],
   "source": [
    "# This is throw error since x not defined and program will crashed\n",
    "# print(x)"
   ]
  },
  {
   "cell_type": "code",
   "execution_count": 2,
   "id": "538e55a0-ae88-4bbb-998d-9075bde809ba",
   "metadata": {},
   "outputs": [
    {
     "name": "stdout",
     "output_type": "stream",
     "text": [
      "An error occured.\n"
     ]
    }
   ],
   "source": [
    "# This is throw error since x is not defined but program will not crash since handling error.\n",
    "try:\n",
    "    print(x)\n",
    "except:\n",
    "    print(\"An error occured.\")"
   ]
  },
  {
   "cell_type": "markdown",
   "id": "23e95416-9b10-4532-b0d1-986b095a57fb",
   "metadata": {},
   "source": [
    "### Code Block to Handle Error\n",
    "- **try** : block of code to test for code.\n",
    "- **except** : block of code to handle the error.\n",
    "- **else** : block of code which will execute when there is no error in code.\n",
    "- **finally** : block of code which will always execute regardless of error."
   ]
  },
  {
   "cell_type": "markdown",
   "id": "82652256-0afb-469b-a91a-1924e1e4e494",
   "metadata": {},
   "source": [
    "### 1: try - except block"
   ]
  },
  {
   "cell_type": "code",
   "execution_count": 3,
   "id": "d069fa98-88c2-414b-8540-ad83d3ef6e31",
   "metadata": {},
   "outputs": [
    {
     "name": "stdout",
     "output_type": "stream",
     "text": [
      "An error occured.\n"
     ]
    }
   ],
   "source": [
    "try:\n",
    "    print(x)\n",
    "except:\n",
    "    print('An error occured.')"
   ]
  },
  {
   "cell_type": "code",
   "execution_count": 4,
   "id": "f1a1a073-2fd0-4f1a-9853-92c7a5678516",
   "metadata": {},
   "outputs": [
    {
     "name": "stdout",
     "output_type": "stream",
     "text": [
      "Variable not defined.\n"
     ]
    }
   ],
   "source": [
    "try:\n",
    "    print(x)\n",
    "except NameError:\n",
    "    print(\"Variable not defined.\")\n",
    "except:\n",
    "    print('Another error occured.')"
   ]
  },
  {
   "cell_type": "code",
   "execution_count": 5,
   "id": "a4fd6532-2698-42aa-904b-c10249021f63",
   "metadata": {},
   "outputs": [
    {
     "name": "stdout",
     "output_type": "stream",
     "text": [
      "Another error occured.\n"
     ]
    }
   ],
   "source": [
    "try:\n",
    "    raise Exception('Another Error.')\n",
    "except NameError:\n",
    "    print(\"Variable not defined.\")\n",
    "except:\n",
    "    print('Another error occured.')"
   ]
  },
  {
   "cell_type": "markdown",
   "id": "9d5e7cf2-42c7-4e33-a3ce-6a08a6b5ce53",
   "metadata": {},
   "source": [
    "### 2: else block\n",
    "else block of code which will execute when there is no error in code."
   ]
  },
  {
   "cell_type": "code",
   "execution_count": 6,
   "id": "cf876e44-4537-46d3-b689-d00ec19d309e",
   "metadata": {},
   "outputs": [
    {
     "name": "stdout",
     "output_type": "stream",
     "text": [
      "10\n",
      "No error occured.\n"
     ]
    }
   ],
   "source": [
    "try:\n",
    "    x = 10\n",
    "    print(x)\n",
    "except:\n",
    "    print('An error occured.')\n",
    "else:\n",
    "    print('No error occured.')"
   ]
  },
  {
   "cell_type": "markdown",
   "id": "0e9250a5-6803-4df1-86ca-dab0b5ff4178",
   "metadata": {},
   "source": [
    "### 3: finally block\n",
    "finally block of code which will always execute regardless of error."
   ]
  },
  {
   "cell_type": "code",
   "execution_count": 7,
   "id": "952dc640-35b6-4500-bc9a-51432ffb390b",
   "metadata": {},
   "outputs": [
    {
     "name": "stdout",
     "output_type": "stream",
     "text": [
      "Some error occurred.\n",
      "All done!\n"
     ]
    }
   ],
   "source": [
    "try:\n",
    "    print(y)\n",
    "except:\n",
    "    print('Some error occurred.')\n",
    "finally:\n",
    "    print('All done!')"
   ]
  }
 ],
 "metadata": {
  "kernelspec": {
   "display_name": "foundation",
   "language": "python",
   "name": "foundation"
  },
  "language_info": {
   "codemirror_mode": {
    "name": "ipython",
    "version": 3
   },
   "file_extension": ".py",
   "mimetype": "text/x-python",
   "name": "python",
   "nbconvert_exporter": "python",
   "pygments_lexer": "ipython3",
   "version": "3.11.3"
  }
 },
 "nbformat": 4,
 "nbformat_minor": 5
}
