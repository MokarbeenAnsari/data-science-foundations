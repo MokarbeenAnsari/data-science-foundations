{
 "cells": [
  {
   "cell_type": "markdown",
   "id": "30b6cc46-31d3-4198-81bf-857f35608620",
   "metadata": {},
   "source": [
    "## File Handling in Python\n",
    "\n",
    "File handling: creating, reading, updating and deleting the file."
   ]
  },
  {
   "cell_type": "markdown",
   "id": "e39ccb42-a18d-4141-8c49-6742479b84fb",
   "metadata": {},
   "source": [
    "### Opening Modes\n",
    "\n",
    "- `\"x\"`: Create - Creates the specified file, returns an error if the file exists \n",
    "- `\"r\"`: Read - Default value. Opens a file for reading, error if the file does not exist \n",
    "- `\"w\"`: Write - Opens a file for writing, creates the file if it does not exist \n",
    "- `\"a\"`: Append - Opens a file for appending, creates the file if it does not exist "
   ]
  },
  {
   "cell_type": "markdown",
   "id": "4fb8464c-a834-43cb-ae29-ccb82ff69b73",
   "metadata": {},
   "source": [
    "### Format Modes\n",
    "- `\"t\"` - Text - Default value. Text mode\n",
    "- `\"b\"` - Binary - Binary mode (e.g. images)"
   ]
  },
  {
   "cell_type": "markdown",
   "id": "85ef1a0a-8a16-4f68-b556-9abdaa5a4a5e",
   "metadata": {},
   "source": [
    "### Important Operation:\n",
    "- Create\n",
    "- Open\n",
    "- Close\n",
    "- Read\n",
    "- Write\n",
    "- Delete"
   ]
  },
  {
   "cell_type": "markdown",
   "id": "17a32d52-fb37-48d4-b33f-336aad66501c",
   "metadata": {},
   "source": [
    "### 1. Create File"
   ]
  },
  {
   "cell_type": "code",
   "execution_count": 1,
   "id": "d7c17382-41e8-4904-8235-686a68548272",
   "metadata": {},
   "outputs": [],
   "source": [
    "# Creating a file\n",
    "f = open('sample.txt', 'x')"
   ]
  },
  {
   "cell_type": "markdown",
   "id": "49f354f6-d5b0-47ff-b317-ed47363d0f77",
   "metadata": {},
   "source": [
    "### 2. Open File"
   ]
  },
  {
   "cell_type": "code",
   "execution_count": 2,
   "id": "9f89631d-038f-4a31-b669-6b851ebc4ae3",
   "metadata": {},
   "outputs": [],
   "source": [
    "# Open file to read\n",
    "f1 = open('sample.txt')\n",
    "f2 = open('sample.txt', 'r')\n",
    "# f3 = open('random.txt')"
   ]
  },
  {
   "cell_type": "code",
   "execution_count": 3,
   "id": "3e183f84-029e-4972-ae4b-275af73c0c94",
   "metadata": {},
   "outputs": [],
   "source": [
    "# Open file to write\n",
    "f4 = open('sample.txt', 'w')\n",
    "f5 = open('random.txt', 'w')"
   ]
  },
  {
   "cell_type": "code",
   "execution_count": 4,
   "id": "d9783aa2-203c-41dd-8797-5ad13a89669a",
   "metadata": {},
   "outputs": [],
   "source": [
    "# Open file to append\n",
    "f6 = open('sample.txt', 'a')\n",
    "f7 = open('newrandom.txt', 'a')"
   ]
  },
  {
   "cell_type": "markdown",
   "id": "6977e1ab-789f-4840-b48a-19208ba8e9fd",
   "metadata": {},
   "source": [
    "### 3. Close File"
   ]
  },
  {
   "cell_type": "code",
   "execution_count": 5,
   "id": "c1e16f54-8728-46aa-a654-ae6baa1785b4",
   "metadata": {},
   "outputs": [],
   "source": [
    "# Opening file to read\n",
    "f = open('sample.txt', 'r')"
   ]
  },
  {
   "cell_type": "code",
   "execution_count": 6,
   "id": "30454ae2-27b8-4e6b-a7d4-da3bdfc4e3e9",
   "metadata": {},
   "outputs": [],
   "source": [
    "# Closing file\n",
    "f.close()"
   ]
  },
  {
   "cell_type": "markdown",
   "id": "af30d632-2ab1-4319-80fb-9126e8f9dbe3",
   "metadata": {},
   "source": [
    "### 4. Read File\n",
    "read() & readline()"
   ]
  },
  {
   "cell_type": "markdown",
   "id": "4d65db2f-e4bd-42fc-b43a-86e7268646a4",
   "metadata": {},
   "source": [
    "#### Reading Whole File"
   ]
  },
  {
   "cell_type": "code",
   "execution_count": 7,
   "id": "8cf55c15-4c8e-40fb-ae3f-83ef3b259fb2",
   "metadata": {},
   "outputs": [],
   "source": [
    "# Opening file to read\n",
    "f = open('sample.txt', 'rt')"
   ]
  },
  {
   "cell_type": "code",
   "execution_count": 8,
   "id": "f7b22daf-995c-4098-9c50-c34d8b5d16e2",
   "metadata": {},
   "outputs": [
    {
     "name": "stdout",
     "output_type": "stream",
     "text": [
      "\n"
     ]
    }
   ],
   "source": [
    "# Reading whole file\n",
    "print(f.read())"
   ]
  },
  {
   "cell_type": "code",
   "execution_count": 9,
   "id": "e4f9a374-0d6a-4d34-834c-2f0755264a1b",
   "metadata": {},
   "outputs": [],
   "source": [
    "# Closing the file\n",
    "f.close()"
   ]
  },
  {
   "cell_type": "markdown",
   "id": "7be2d65a-25f0-4319-a465-26b7ccce8148",
   "metadata": {},
   "source": [
    "#### Reading Line by Line"
   ]
  },
  {
   "cell_type": "code",
   "execution_count": 10,
   "id": "7f1545a2-6048-4def-9ad9-3e78aa160205",
   "metadata": {},
   "outputs": [],
   "source": [
    "# Opening file to read\n",
    "f = open('sample.txt', 'rt')"
   ]
  },
  {
   "cell_type": "code",
   "execution_count": 11,
   "id": "cdd67311-2cd4-4e3a-8d06-e857069a7e5b",
   "metadata": {},
   "outputs": [
    {
     "name": "stdout",
     "output_type": "stream",
     "text": [
      "\n"
     ]
    }
   ],
   "source": [
    "# Reading first line\n",
    "print(f.readline())"
   ]
  },
  {
   "cell_type": "code",
   "execution_count": 12,
   "id": "fd1a40fb-a9a3-4308-b586-f0c582091b7f",
   "metadata": {},
   "outputs": [
    {
     "name": "stdout",
     "output_type": "stream",
     "text": [
      "\n"
     ]
    }
   ],
   "source": [
    "# Reading next line\n",
    "print(f.readline())"
   ]
  },
  {
   "cell_type": "code",
   "execution_count": 13,
   "id": "aa72bebd-7421-4a78-b5ba-653426776f60",
   "metadata": {},
   "outputs": [
    {
     "name": "stdout",
     "output_type": "stream",
     "text": [
      "\n"
     ]
    }
   ],
   "source": [
    "# Reading next line\n",
    "print(f.readline())"
   ]
  },
  {
   "cell_type": "code",
   "execution_count": 14,
   "id": "46326488-5873-4f83-9080-43d1e259daea",
   "metadata": {},
   "outputs": [],
   "source": [
    "# Closing the file\n",
    "f.close()"
   ]
  },
  {
   "cell_type": "markdown",
   "id": "a690bbe1-c538-4634-8724-09ed14e320de",
   "metadata": {},
   "source": [
    "### 5. Write in File"
   ]
  },
  {
   "cell_type": "code",
   "execution_count": 15,
   "id": "084518cc-c48b-4bc7-b23d-9a093d349583",
   "metadata": {},
   "outputs": [],
   "source": [
    "# Appneding in the file at the end\n",
    "f = open('sample.txt', 'a')\n",
    "f.write('This is new line.\\n')\n",
    "f.close()"
   ]
  },
  {
   "cell_type": "code",
   "execution_count": 16,
   "id": "293ca39e-fc08-4da2-be2d-abce82c6a012",
   "metadata": {},
   "outputs": [],
   "source": [
    "# Overrting the file and delete existing content.\n",
    "f = open('sample.txt', 'w')\n",
    "f.write('This is the first line.\\n')\n",
    "f.write('This is the second line.\\n')\n",
    "f.close()"
   ]
  },
  {
   "cell_type": "markdown",
   "id": "76a76cc8-61ab-434d-abee-5d333e6e3a4d",
   "metadata": {},
   "source": [
    "### 6. Delete File"
   ]
  },
  {
   "cell_type": "code",
   "execution_count": 17,
   "id": "5e0d4b23-d72e-407c-8556-6a5bb4b3336a",
   "metadata": {},
   "outputs": [],
   "source": [
    "# Importing the os module\n",
    "import os"
   ]
  },
  {
   "cell_type": "code",
   "execution_count": 18,
   "id": "18fa259e-c87d-448a-abc9-6883abe333b8",
   "metadata": {},
   "outputs": [
    {
     "name": "stdout",
     "output_type": "stream",
     "text": [
      "File successfully deleted!\n"
     ]
    }
   ],
   "source": [
    "if os.path.exists('sample.txt'):\n",
    "    os.remove('sample.txt')\n",
    "    print('File successfully deleted!')\n",
    "else:\n",
    "    print('File does not exist.')"
   ]
  },
  {
   "cell_type": "markdown",
   "id": "42b1f40d-9942-40c2-a7a1-51ba8d618058",
   "metadata": {},
   "source": [
    "### 7. `with` Statement\n",
    "The **with** statement itself ensures proper acquisition and release of resources."
   ]
  },
  {
   "cell_type": "code",
   "execution_count": 19,
   "id": "2a4583c0-cbe9-47c1-aa7e-72efa4ed737b",
   "metadata": {},
   "outputs": [],
   "source": [
    "with open('newfile.txt', 'a') as f:\n",
    "    f.write('This is the very first line.\\n')"
   ]
  }
 ],
 "metadata": {
  "kernelspec": {
   "display_name": "foundation",
   "language": "python",
   "name": "foundation"
  },
  "language_info": {
   "codemirror_mode": {
    "name": "ipython",
    "version": 3
   },
   "file_extension": ".py",
   "mimetype": "text/x-python",
   "name": "python",
   "nbconvert_exporter": "python",
   "pygments_lexer": "ipython3",
   "version": "3.11.3"
  }
 },
 "nbformat": 4,
 "nbformat_minor": 5
}
