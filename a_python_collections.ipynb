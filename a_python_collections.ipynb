{
 "cells": [
  {
   "cell_type": "markdown",
   "metadata": {
    "id": "ivg22l8ud_4g"
   },
   "source": [
    "## Python Collections [In-build Data Structure]\n",
    "There are four in-built data structure in the Python programming language:\n",
    "\n",
    "- **List**\n",
    "- **Tuple**\n",
    "- **Set**\n",
    "- **Dictionary**"
   ]
  },
  {
   "cell_type": "markdown",
   "metadata": {
    "id": "n0BQfcE-ew99"
   },
   "source": [
    "### List\n",
    "*List* is a collection which is ordered and changeable. Allows duplicate members."
   ]
  },
  {
   "cell_type": "code",
   "execution_count": 1,
   "metadata": {
    "colab": {
     "base_uri": "https://localhost:8080/"
    },
    "executionInfo": {
     "elapsed": 13,
     "status": "ok",
     "timestamp": 1690866518016,
     "user": {
      "displayName": "Mokarbeen Ansari",
      "userId": "04612944058988458318"
     },
     "user_tz": -330
    },
    "id": "3AjnGVHXfye4",
    "outputId": "f03630b5-959f-4eb5-9b9b-b73bb21a1a04"
   },
   "outputs": [
    {
     "data": {
      "text/plain": [
       "[0, 1, 2, 3, 4, 5, 6, 7, 8, 9]"
      ]
     },
     "execution_count": 1,
     "metadata": {},
     "output_type": "execute_result"
    }
   ],
   "source": [
    "my_list = list(range(10))\n",
    "my_list"
   ]
  },
  {
   "cell_type": "markdown",
   "metadata": {
    "id": "eDa9PtvQfA-o"
   },
   "source": [
    "### Tuple\n",
    "*Tuple* is a collection which is ordered and unchangeable. Allows duplicate members."
   ]
  },
  {
   "cell_type": "code",
   "execution_count": 2,
   "metadata": {
    "colab": {
     "base_uri": "https://localhost:8080/"
    },
    "executionInfo": {
     "elapsed": 7,
     "status": "ok",
     "timestamp": 1690866546846,
     "user": {
      "displayName": "Mokarbeen Ansari",
      "userId": "04612944058988458318"
     },
     "user_tz": -330
    },
    "id": "iMZ1d-xOf6T_",
    "outputId": "02e99463-509c-48c3-e9f0-d1a07cf65ab6"
   },
   "outputs": [
    {
     "data": {
      "text/plain": [
       "(0, 1, 2, 3, 4, 5, 6, 7, 8, 9)"
      ]
     },
     "execution_count": 2,
     "metadata": {},
     "output_type": "execute_result"
    }
   ],
   "source": [
    "my_tuple = tuple(range(10))\n",
    "my_tuple"
   ]
  },
  {
   "cell_type": "markdown",
   "metadata": {
    "id": "I8hgnlcUfOAN"
   },
   "source": [
    "### Set\n",
    "*Set* is a collection which is unordered, unchangeable, and unindexed. No duplicate members."
   ]
  },
  {
   "cell_type": "code",
   "execution_count": 3,
   "metadata": {
    "colab": {
     "base_uri": "https://localhost:8080/"
    },
    "executionInfo": {
     "elapsed": 396,
     "status": "ok",
     "timestamp": 1690866571925,
     "user": {
      "displayName": "Mokarbeen Ansari",
      "userId": "04612944058988458318"
     },
     "user_tz": -330
    },
    "id": "BOK0aABFgBDj",
    "outputId": "4e772bc5-a6af-4c39-e6d3-53113433669f"
   },
   "outputs": [
    {
     "data": {
      "text/plain": [
       "{0, 1, 2, 3, 4, 5, 6, 7, 8, 9}"
      ]
     },
     "execution_count": 3,
     "metadata": {},
     "output_type": "execute_result"
    }
   ],
   "source": [
    "my_set = set(range(10))\n",
    "my_set"
   ]
  },
  {
   "cell_type": "markdown",
   "metadata": {
    "id": "bd23p2gofhZD"
   },
   "source": [
    "### Dictionary\n",
    "*Dictionary* is a collection which is ordered and changeable. No duplicate members."
   ]
  },
  {
   "cell_type": "code",
   "execution_count": 7,
   "metadata": {
    "colab": {
     "base_uri": "https://localhost:8080/"
    },
    "executionInfo": {
     "elapsed": 4,
     "status": "ok",
     "timestamp": 1690866683483,
     "user": {
      "displayName": "Mokarbeen Ansari",
      "userId": "04612944058988458318"
     },
     "user_tz": -330
    },
    "id": "Xvf2n6wkgHbE",
    "outputId": "9f24ab7c-9d59-4950-9062-638900beb314"
   },
   "outputs": [
    {
     "data": {
      "text/plain": [
       "{0: 'apple', 1: 'ball', 2: 'cat'}"
      ]
     },
     "execution_count": 7,
     "metadata": {},
     "output_type": "execute_result"
    }
   ],
   "source": [
    "my_dict = {0: \"apple\", 1: \"ball\", 2: \"cat\"}\n",
    "my_dict"
   ]
  },
  {
   "cell_type": "code",
   "execution_count": 8,
   "metadata": {
    "colab": {
     "base_uri": "https://localhost:8080/"
    },
    "executionInfo": {
     "elapsed": 433,
     "status": "ok",
     "timestamp": 1690866726461,
     "user": {
      "displayName": "Mokarbeen Ansari",
      "userId": "04612944058988458318"
     },
     "user_tz": -330
    },
    "id": "OAcIKvqsghtX",
    "outputId": "2ec6ebc2-8bf0-45cf-931f-fe8ba61b98f6"
   },
   "outputs": [
    {
     "data": {
      "text/plain": [
       "{'a': 'apple', 'b': 'ball', 'c': 'cat'}"
      ]
     },
     "execution_count": 8,
     "metadata": {},
     "output_type": "execute_result"
    }
   ],
   "source": [
    "my_dict = {\"a\": \"apple\", \"b\": \"ball\", \"c\": \"cat\"}\n",
    "my_dict"
   ]
  }
 ],
 "metadata": {
  "colab": {
   "authorship_tag": "ABX9TyPS7Pi6otgAuV9Lf8S18CQd",
   "provenance": []
  },
  "kernelspec": {
   "display_name": "python-crash-course",
   "language": "python",
   "name": "python-crash-course"
  },
  "language_info": {
   "codemirror_mode": {
    "name": "ipython",
    "version": 3
   },
   "file_extension": ".py",
   "mimetype": "text/x-python",
   "name": "python",
   "nbconvert_exporter": "python",
   "pygments_lexer": "ipython3",
   "version": "3.11.3"
  },
  "toc": {
   "base_numbering": 1,
   "nav_menu": {},
   "number_sections": false,
   "sideBar": true,
   "skip_h1_title": false,
   "title_cell": "Table of Contents",
   "title_sidebar": "Contents",
   "toc_cell": false,
   "toc_position": {},
   "toc_section_display": true,
   "toc_window_display": false
  }
 },
 "nbformat": 4,
 "nbformat_minor": 1
}
