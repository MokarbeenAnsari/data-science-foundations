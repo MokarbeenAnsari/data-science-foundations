{
 "cells": [
  {
   "cell_type": "markdown",
   "id": "c21f1d42",
   "metadata": {},
   "source": [
    "## Tuple\n",
    "*Tuple* is a collection which is ordered and unchangeable. Allows duplicate members."
   ]
  },
  {
   "cell_type": "markdown",
   "id": "5a0190f7",
   "metadata": {},
   "source": [
    "### 1. Ordered"
   ]
  },
  {
   "cell_type": "code",
   "execution_count": 2,
   "id": "c76d31f6",
   "metadata": {},
   "outputs": [
    {
     "name": "stdout",
     "output_type": "stream",
     "text": [
      "('apple', 'dog', 'cat', 'banana')\n"
     ]
    }
   ],
   "source": [
    "my_tuple = ('apple', 'dog', 'cat', 'banana') \n",
    "print(my_tuple)"
   ]
  },
  {
   "cell_type": "markdown",
   "id": "d185effb",
   "metadata": {},
   "source": [
    "### 2. Unchangeable"
   ]
  },
  {
   "cell_type": "markdown",
   "id": "08f9de38-368b-41ad-b323-02f8694a57d6",
   "metadata": {},
   "source": [
    "Tuples are unchangeable, meaning that we cannot change, add or remove items after the tuple has been created."
   ]
  },
  {
   "cell_type": "markdown",
   "id": "528060e5-f359-4221-8c31-94fafeabaafb",
   "metadata": {},
   "source": [
    "### 3. Duplicate Allowed"
   ]
  },
  {
   "cell_type": "code",
   "execution_count": 3,
   "id": "5ddbdd7a-090e-4f28-ad27-ca6cad773cbc",
   "metadata": {},
   "outputs": [
    {
     "name": "stdout",
     "output_type": "stream",
     "text": [
      "('apple', 'banana', 'cat', 'dog', 'dog')\n"
     ]
    }
   ],
   "source": [
    "my_tuple = ('apple', 'banana', 'cat', 'dog', 'dog')\n",
    "print(my_tuple)"
   ]
  },
  {
   "cell_type": "markdown",
   "id": "1a040184-b9db-4e04-ac3a-a5c519e43fbb",
   "metadata": {},
   "source": [
    "### 4. Access Tuple Items\n",
    "We can access the tuple element using index since it is ordered. There are 3 way to acess items:\n",
    "- Positive index\n",
    "- Negative index\n",
    "- Range index"
   ]
  },
  {
   "cell_type": "code",
   "execution_count": 4,
   "id": "b876cd55-87f3-4845-9717-7cbce4be5379",
   "metadata": {},
   "outputs": [
    {
     "name": "stdout",
     "output_type": "stream",
     "text": [
      "(0, 1, 2, 3, 4, 5, 6, 7, 8, 9)\n"
     ]
    }
   ],
   "source": [
    "my_tuple = tuple(range(10))\n",
    "print(my_tuple)"
   ]
  },
  {
   "cell_type": "code",
   "execution_count": 5,
   "id": "c9366b01-04e9-45a9-a053-7b10564508e3",
   "metadata": {},
   "outputs": [
    {
     "name": "stdout",
     "output_type": "stream",
     "text": [
      "0\n",
      "1\n",
      "8\n"
     ]
    }
   ],
   "source": [
    "# Positive index\n",
    "print(my_tuple[0])\n",
    "print(my_tuple[1])\n",
    "print(my_tuple[8])"
   ]
  },
  {
   "cell_type": "code",
   "execution_count": 6,
   "id": "9687cedb-70fa-4957-9c2b-3a13f629729c",
   "metadata": {},
   "outputs": [
    {
     "name": "stdout",
     "output_type": "stream",
     "text": [
      "9\n",
      "8\n",
      "7\n",
      "6\n"
     ]
    }
   ],
   "source": [
    "# Negative index\n",
    "print(my_tuple[-1])\n",
    "print(my_tuple[-2])\n",
    "print(my_tuple[-3])\n",
    "print(my_tuple[-4])"
   ]
  },
  {
   "cell_type": "code",
   "execution_count": 7,
   "id": "ba30f2ab-0f4f-4de1-a0fa-367cd9e01357",
   "metadata": {},
   "outputs": [
    {
     "name": "stdout",
     "output_type": "stream",
     "text": [
      "(3, 4)\n"
     ]
    }
   ],
   "source": [
    "# Range index\n",
    "print(my_tuple[3:5])"
   ]
  },
  {
   "cell_type": "markdown",
   "id": "8cb68bbd-0580-49e9-9833-026281b8ac1e",
   "metadata": {},
   "source": [
    "### 5. Add Item"
   ]
  },
  {
   "cell_type": "markdown",
   "id": "600cc7da-4b48-459b-b489-b4fd9c8b20dd",
   "metadata": {},
   "source": [
    "Tuple are unchangeable so we can not add new item in this."
   ]
  },
  {
   "cell_type": "code",
   "execution_count": 13,
   "id": "96222cc4-29b4-4e65-b17e-2d38705a90d0",
   "metadata": {},
   "outputs": [
    {
     "name": "stdout",
     "output_type": "stream",
     "text": [
      "(0, 1, 2, 3, 4, 5, 6, 7, 8, 9)\n"
     ]
    }
   ],
   "source": [
    "my_tuple = tuple(range(10))\n",
    "print(my_tuple)"
   ]
  },
  {
   "cell_type": "code",
   "execution_count": 14,
   "id": "cf28431f-b0f0-4f9c-8d94-698217695f5a",
   "metadata": {},
   "outputs": [
    {
     "name": "stdout",
     "output_type": "stream",
     "text": [
      "(0, 1, 2, 3, 4, 5, 6, 7, 8, 9, 10)\n"
     ]
    }
   ],
   "source": [
    "# Workaround 1\n",
    "my_tuple = list(my_tuple)\n",
    "my_tuple.append(10)\n",
    "my_tuple = tuple(my_tuple)\n",
    "print(my_tuple)"
   ]
  },
  {
   "cell_type": "markdown",
   "id": "36ec83b1-f788-48e3-9973-e538b677c50b",
   "metadata": {},
   "source": [
    "### 7. Remove Item"
   ]
  },
  {
   "cell_type": "markdown",
   "id": "91474dd0-229d-4247-a97b-faa13fde8783",
   "metadata": {},
   "source": [
    "Tuple are unchangeable so we can not add new item in this."
   ]
  },
  {
   "cell_type": "markdown",
   "id": "94b85d09-bfac-43e5-8782-ae225e972642",
   "metadata": {},
   "source": [
    "### 8. Unpacking"
   ]
  },
  {
   "cell_type": "code",
   "execution_count": 16,
   "id": "f04b5674-da11-4cb0-ad0e-f3508dd844de",
   "metadata": {},
   "outputs": [
    {
     "name": "stdout",
     "output_type": "stream",
     "text": [
      "('red', 'yellow', 'green')\n"
     ]
    }
   ],
   "source": [
    "my_tuple = ('red', 'yellow', 'green')\n",
    "print(my_tuple)"
   ]
  },
  {
   "cell_type": "code",
   "execution_count": 18,
   "id": "6582d509-c572-4ccb-a9c3-03c5d759ef4e",
   "metadata": {},
   "outputs": [
    {
     "name": "stdout",
     "output_type": "stream",
     "text": [
      "red\n",
      "yellow\n",
      "green\n"
     ]
    }
   ],
   "source": [
    "color1, color2, color3 = my_tuple\n",
    "\n",
    "print(color1)\n",
    "print(color2)\n",
    "print(color3)"
   ]
  },
  {
   "cell_type": "markdown",
   "id": "b79e34f1-8bc5-4bf7-9999-2444ae3a751b",
   "metadata": {},
   "source": [
    "### 9. Loop"
   ]
  },
  {
   "cell_type": "code",
   "execution_count": 1,
   "id": "87b06bca-653f-429f-91df-3130c72351cc",
   "metadata": {},
   "outputs": [
    {
     "name": "stdout",
     "output_type": "stream",
     "text": [
      "('apple', 'banana', 'cat', 'dog', 'egg', 'fruit')\n"
     ]
    }
   ],
   "source": [
    "my_tuple = ('apple', 'banana', 'cat', 'dog', 'egg', 'fruit')\n",
    "print(my_tuple)"
   ]
  },
  {
   "cell_type": "code",
   "execution_count": 2,
   "id": "0ccfdfde-56a1-4ef5-8545-854521e7c01f",
   "metadata": {},
   "outputs": [
    {
     "name": "stdout",
     "output_type": "stream",
     "text": [
      "apple\n",
      "banana\n",
      "cat\n",
      "dog\n",
      "egg\n",
      "fruit\n"
     ]
    }
   ],
   "source": [
    "# Loop through items\n",
    "for x in my_tuple:\n",
    "    print(x)"
   ]
  },
  {
   "cell_type": "code",
   "execution_count": 4,
   "id": "2d576001-a3df-40c8-90c4-651e000799f6",
   "metadata": {},
   "outputs": [
    {
     "name": "stdout",
     "output_type": "stream",
     "text": [
      "0\n",
      "1\n",
      "2\n",
      "3\n",
      "4\n",
      "5\n"
     ]
    }
   ],
   "source": [
    "# Loop through index\n",
    "for i in range(len(my_tuple)):\n",
    "    print(i)"
   ]
  },
  {
   "cell_type": "markdown",
   "id": "59195a14-f5aa-4301-bd9f-40025062ef64",
   "metadata": {},
   "source": [
    "### 10. Join Tuple"
   ]
  },
  {
   "cell_type": "code",
   "execution_count": 25,
   "id": "e57ba5ef-9dc7-4fc1-9add-943d92abf729",
   "metadata": {},
   "outputs": [
    {
     "name": "stdout",
     "output_type": "stream",
     "text": [
      "('a', 'b', 'c', 1, 2, 3)\n"
     ]
    }
   ],
   "source": [
    "tuple1 = (\"a\", \"b\" , \"c\")\n",
    "tuple2 = (1, 2, 3)\n",
    "\n",
    "tuple3 = tuple1 + tuple2\n",
    "print(tuple3)"
   ]
  }
 ],
 "metadata": {
  "kernelspec": {
   "display_name": "foundation",
   "language": "python",
   "name": "foundation"
  },
  "language_info": {
   "codemirror_mode": {
    "name": "ipython",
    "version": 3
   },
   "file_extension": ".py",
   "mimetype": "text/x-python",
   "name": "python",
   "nbconvert_exporter": "python",
   "pygments_lexer": "ipython3",
   "version": "3.11.3"
  },
  "toc": {
   "base_numbering": 1,
   "nav_menu": {},
   "number_sections": false,
   "sideBar": true,
   "skip_h1_title": false,
   "title_cell": "Table of Contents",
   "title_sidebar": "Contents",
   "toc_cell": false,
   "toc_position": {},
   "toc_section_display": true,
   "toc_window_display": false
  }
 },
 "nbformat": 4,
 "nbformat_minor": 5
}
