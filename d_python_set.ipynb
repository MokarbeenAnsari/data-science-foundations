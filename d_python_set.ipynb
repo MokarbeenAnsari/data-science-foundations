{
 "cells": [
  {
   "cell_type": "markdown",
   "id": "c21f1d42",
   "metadata": {},
   "source": [
    "## Set\n",
    "*Set* is a collection which is unordered, unindexed and unchangeable. No duplicate members.  \n",
    "**Note**: Set items are unchangeable, but you can remove items and add new items."
   ]
  },
  {
   "cell_type": "markdown",
   "id": "5a0190f7",
   "metadata": {},
   "source": [
    "### 1. Unordered"
   ]
  },
  {
   "cell_type": "code",
   "execution_count": 1,
   "id": "c76d31f6",
   "metadata": {},
   "outputs": [
    {
     "name": "stdout",
     "output_type": "stream",
     "text": [
      "{'apple', 'cat', 'dog', 'banana'}\n"
     ]
    }
   ],
   "source": [
    "my_set = {'apple', 'dog', 'cat', 'banana', } \n",
    "print(my_set)"
   ]
  },
  {
   "cell_type": "markdown",
   "id": "d185effb",
   "metadata": {},
   "source": [
    "### 2. Unchangeable"
   ]
  },
  {
   "cell_type": "code",
   "execution_count": 4,
   "id": "0ac5ba04",
   "metadata": {},
   "outputs": [
    {
     "name": "stdout",
     "output_type": "stream",
     "text": [
      "{'apple', 'cat', 'dog', 'banana'}\n"
     ]
    }
   ],
   "source": [
    "my_set = {'apple', 'banana', 'cat', 'dog'}\n",
    "print(my_set)"
   ]
  },
  {
   "cell_type": "code",
   "execution_count": 6,
   "id": "b8328fd6-0717-4c2a-9253-64e7845b5ef5",
   "metadata": {},
   "outputs": [
    {
     "name": "stdout",
     "output_type": "stream",
     "text": [
      "{'apple', 'banana', 'egg', 'cat', 'dog'}\n"
     ]
    }
   ],
   "source": [
    "my_set.add('egg')\n",
    "print(my_set)"
   ]
  },
  {
   "cell_type": "code",
   "execution_count": 7,
   "id": "78683ceb-f6a0-403d-885a-7843c838fd76",
   "metadata": {},
   "outputs": [
    {
     "name": "stdout",
     "output_type": "stream",
     "text": [
      "{'banana', 'egg', 'cat', 'dog'}\n"
     ]
    }
   ],
   "source": [
    "my_set.remove('apple')\n",
    "print(my_set)"
   ]
  },
  {
   "cell_type": "markdown",
   "id": "528060e5-f359-4221-8c31-94fafeabaafb",
   "metadata": {},
   "source": [
    "### 3. Duplicate Not Allowed"
   ]
  },
  {
   "cell_type": "code",
   "execution_count": 9,
   "id": "5ddbdd7a-090e-4f28-ad27-ca6cad773cbc",
   "metadata": {},
   "outputs": [
    {
     "name": "stdout",
     "output_type": "stream",
     "text": [
      "{'apple', 'cat', 'dog', 'banana'}\n"
     ]
    }
   ],
   "source": [
    "my_set = {'apple', 'banana', 'cat', 'dog', 'dog'}\n",
    "print(my_set)"
   ]
  },
  {
   "cell_type": "markdown",
   "id": "1a040184-b9db-4e04-ac3a-a5c519e43fbb",
   "metadata": {},
   "source": [
    "### 4. Access Set Items"
   ]
  },
  {
   "cell_type": "code",
   "execution_count": 10,
   "id": "b876cd55-87f3-4845-9717-7cbce4be5379",
   "metadata": {},
   "outputs": [
    {
     "name": "stdout",
     "output_type": "stream",
     "text": [
      "{'egg', 'apple', 'cat', 'dog', 'banana'}\n"
     ]
    }
   ],
   "source": [
    "my_set = {'apple', 'banana', 'cat', 'dog', 'egg'}\n",
    "print(my_set)"
   ]
  },
  {
   "cell_type": "code",
   "execution_count": 11,
   "id": "c9366b01-04e9-45a9-a053-7b10564508e3",
   "metadata": {},
   "outputs": [
    {
     "name": "stdout",
     "output_type": "stream",
     "text": [
      "egg\n",
      "apple\n",
      "cat\n",
      "dog\n",
      "banana\n"
     ]
    }
   ],
   "source": [
    "# Access through loop\n",
    "for item in my_set:\n",
    "    print(item)"
   ]
  },
  {
   "cell_type": "code",
   "execution_count": 15,
   "id": "9687cedb-70fa-4957-9c2b-3a13f629729c",
   "metadata": {},
   "outputs": [
    {
     "name": "stdout",
     "output_type": "stream",
     "text": [
      "True\n",
      "False\n"
     ]
    }
   ],
   "source": [
    "# Check existance of item\n",
    "print('apple' in my_set)\n",
    "print('ball' in my_set)"
   ]
  },
  {
   "cell_type": "markdown",
   "id": "8cb68bbd-0580-49e9-9833-026281b8ac1e",
   "metadata": {},
   "source": [
    "### 5. Add Item"
   ]
  },
  {
   "cell_type": "code",
   "execution_count": 16,
   "id": "7261c8d6-f94c-4cbb-894f-d41280e6440d",
   "metadata": {},
   "outputs": [
    {
     "name": "stdout",
     "output_type": "stream",
     "text": [
      "{'egg', 'apple', 'cat', 'dog', 'banana'}\n"
     ]
    }
   ],
   "source": [
    "my_set = {'apple', 'banana', 'cat', 'dog', 'egg'}\n",
    "print(my_set)"
   ]
  },
  {
   "cell_type": "code",
   "execution_count": 17,
   "id": "e0f1056a-71eb-4dfd-858c-d74d7dc1f339",
   "metadata": {},
   "outputs": [
    {
     "name": "stdout",
     "output_type": "stream",
     "text": [
      "{'egg', 'apple', 'cat', 'google', 'dog', 'banana'}\n"
     ]
    }
   ],
   "source": [
    "# Adding a new item\n",
    "my_set.add('google')\n",
    "print(my_set)"
   ]
  },
  {
   "cell_type": "markdown",
   "id": "36ec83b1-f788-48e3-9973-e538b677c50b",
   "metadata": {},
   "source": [
    "### 7. Remove Item"
   ]
  },
  {
   "cell_type": "code",
   "execution_count": 6,
   "id": "80c9dc6d-2804-4276-bc21-16a1cc5b9a1c",
   "metadata": {},
   "outputs": [
    {
     "name": "stdout",
     "output_type": "stream",
     "text": [
      "{'dog', 'apple', 'banana', 'cat'}\n"
     ]
    }
   ],
   "source": [
    "my_set = {'apple', 'banana', 'cat', 'dog'}\n",
    "print(my_set)"
   ]
  },
  {
   "cell_type": "code",
   "execution_count": 7,
   "id": "0adb2810-1eeb-4549-b16c-f2361fad36ec",
   "metadata": {},
   "outputs": [
    {
     "name": "stdout",
     "output_type": "stream",
     "text": [
      "{'dog', 'banana', 'cat'}\n"
     ]
    }
   ],
   "source": [
    "# Removing an item from set\n",
    "my_set.remove('apple')\n",
    "print(my_set)"
   ]
  },
  {
   "cell_type": "code",
   "execution_count": 8,
   "id": "91aa10a6-5c2f-4eea-a727-477652c6ebff",
   "metadata": {},
   "outputs": [
    {
     "name": "stdout",
     "output_type": "stream",
     "text": [
      "dog\n",
      "{'banana', 'cat'}\n"
     ]
    }
   ],
   "source": [
    "# Now removing an item randomly\n",
    "print(my_set.pop())\n",
    "print(my_set)"
   ]
  },
  {
   "cell_type": "code",
   "execution_count": 9,
   "id": "be012823-fa80-4bcf-aa96-411ea05a31aa",
   "metadata": {},
   "outputs": [
    {
     "name": "stdout",
     "output_type": "stream",
     "text": [
      "set()\n"
     ]
    }
   ],
   "source": [
    "# Clear the set \n",
    "my_set.clear()\n",
    "print(my_set)"
   ]
  },
  {
   "cell_type": "markdown",
   "id": "b79e34f1-8bc5-4bf7-9999-2444ae3a751b",
   "metadata": {},
   "source": [
    "### 8. Loop"
   ]
  },
  {
   "cell_type": "code",
   "execution_count": 10,
   "id": "a0699c9a-d094-451e-b18d-38672a69f8e7",
   "metadata": {},
   "outputs": [
    {
     "name": "stdout",
     "output_type": "stream",
     "text": [
      "{'dog', 'apple', 'banana', 'cat'}\n"
     ]
    }
   ],
   "source": [
    "my_set = {'apple', 'banana', 'cat', 'dog'}\n",
    "print(my_set)"
   ]
  },
  {
   "cell_type": "code",
   "execution_count": 11,
   "id": "dd156974-c8ee-493f-b1b0-c4ecb50cec5b",
   "metadata": {},
   "outputs": [
    {
     "name": "stdout",
     "output_type": "stream",
     "text": [
      "dog\n",
      "apple\n",
      "banana\n",
      "cat\n"
     ]
    }
   ],
   "source": [
    "# Print item of set\n",
    "for x in my_set:\n",
    "    print(x)"
   ]
  },
  {
   "cell_type": "markdown",
   "id": "59195a14-f5aa-4301-bd9f-40025062ef64",
   "metadata": {},
   "source": [
    "### 9. Set Copy [copy()]"
   ]
  },
  {
   "cell_type": "code",
   "execution_count": 12,
   "id": "b8ac372e-befb-459d-8db9-6a6d1007dfc9",
   "metadata": {},
   "outputs": [
    {
     "name": "stdout",
     "output_type": "stream",
     "text": [
      "{'banana', 'apple', 'cat'}\n"
     ]
    }
   ],
   "source": [
    "my_set = {'apple', 'banana', 'cat'}\n",
    "print(my_set)"
   ]
  },
  {
   "cell_type": "code",
   "execution_count": 13,
   "id": "fe2c4d99-9eaf-4a3b-a81e-61c0455ab981",
   "metadata": {},
   "outputs": [
    {
     "name": "stdout",
     "output_type": "stream",
     "text": [
      "{'banana', 'apple', 'cat'}\n",
      "{'banana', 'apple', 'cat'}\n"
     ]
    }
   ],
   "source": [
    "set_copy = my_set\n",
    "print(set_copy)\n",
    "print(my_set)"
   ]
  },
  {
   "cell_type": "code",
   "execution_count": 14,
   "id": "89e5f83d-1c38-463a-9b03-c29224d121a9",
   "metadata": {},
   "outputs": [
    {
     "name": "stdout",
     "output_type": "stream",
     "text": [
      "{'dog', 'banana', 'apple', 'cat'}\n",
      "{'dog', 'banana', 'apple', 'cat'}\n"
     ]
    }
   ],
   "source": [
    "set_copy.add('dog')\n",
    "print(set_copy)\n",
    "print(my_set)"
   ]
  },
  {
   "cell_type": "code",
   "execution_count": 15,
   "id": "f13c70a5-1378-43ee-a343-d61751f04981",
   "metadata": {},
   "outputs": [
    {
     "name": "stdout",
     "output_type": "stream",
     "text": [
      "{'dog', 'banana', 'apple', 'cat'}\n",
      "{'dog', 'banana', 'apple', 'cat'}\n"
     ]
    }
   ],
   "source": [
    "new_copy = my_set.copy()\n",
    "print(new_copy)\n",
    "print(my_set)"
   ]
  },
  {
   "cell_type": "code",
   "execution_count": 16,
   "id": "3db6f38e-7b06-451e-abc2-c506c0fff34e",
   "metadata": {},
   "outputs": [
    {
     "name": "stdout",
     "output_type": "stream",
     "text": [
      "{'egg', 'cat', 'dog', 'banana', 'apple'}\n",
      "{'dog', 'banana', 'apple', 'cat'}\n"
     ]
    }
   ],
   "source": [
    "new_copy.add('egg')\n",
    "print(new_copy)\n",
    "print(my_set)"
   ]
  },
  {
   "cell_type": "markdown",
   "id": "7197f899-7821-4b08-a420-cec980bd826c",
   "metadata": {},
   "source": [
    "### 10. Important Set Method"
   ]
  },
  {
   "cell_type": "markdown",
   "id": "8aec8fdd-4559-4baf-a028-47b5cf5dd5a1",
   "metadata": {},
   "source": [
    "| **Method**                        | Description                                                                                           |\n",
    "|:---------------------------------|:------------------------------------------------------------------------------------------------------|\n",
    "| **add()**                         | Adds an element to the set                                                                            |\n",
    "| **clear()**                       | Removes all the elements from the set                                                                 |\n",
    "| **copy()**                        | Returns a copy of the set                                                                             |\n",
    "| **difference()**                  | Returns a set containing the difference between two or more sets                                      |                                                                     \n",
    "| **intersection()**                | Returns a set, that is the intersection of two other sets                                             |\n",
    "| **isdisjoint()**                  | Returns whether two sets have a intersection or not                                                   |\n",
    "| **issubset()**                    | Returns whether another set contains this set or not                                                  |\n",
    "| **issuperset()**                  | Returns whether this set contains another set or not                                                  |\n",
    "| **pop()**                         | Removes an element from the set                                                                       |\n",
    "| **remove()**                      | Removes the specified element                                                                         |\n",
    "| **union()**                       | Return a set containing the union of sets                                                             |"
   ]
  }
 ],
 "metadata": {
  "kernelspec": {
   "display_name": "foundation",
   "language": "python",
   "name": "foundation"
  },
  "language_info": {
   "codemirror_mode": {
    "name": "ipython",
    "version": 3
   },
   "file_extension": ".py",
   "mimetype": "text/x-python",
   "name": "python",
   "nbconvert_exporter": "python",
   "pygments_lexer": "ipython3",
   "version": "3.11.3"
  },
  "toc": {
   "base_numbering": 1,
   "nav_menu": {},
   "number_sections": false,
   "sideBar": true,
   "skip_h1_title": false,
   "title_cell": "Table of Contents",
   "title_sidebar": "Contents",
   "toc_cell": false,
   "toc_position": {},
   "toc_section_display": true,
   "toc_window_display": false
  }
 },
 "nbformat": 4,
 "nbformat_minor": 5
}
