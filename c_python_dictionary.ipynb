{
 "cells": [
  {
   "cell_type": "markdown",
   "id": "c21f1d42",
   "metadata": {},
   "source": [
    "## Dictionary\n",
    "*Dictionary* is a collection which is ordered and changeable. No duplicate members."
   ]
  },
  {
   "cell_type": "markdown",
   "id": "5a0190f7",
   "metadata": {},
   "source": [
    "### 1. Ordered\n",
    "As of Python version 3.7, dictionaries are ordered. In Python 3.6 and earlier, dictionaries are unordered."
   ]
  },
  {
   "cell_type": "code",
   "execution_count": 1,
   "id": "3c1d6d73",
   "metadata": {},
   "outputs": [
    {
     "name": "stdout",
     "output_type": "stream",
     "text": [
      "zsh:1: command not found: python\n"
     ]
    }
   ],
   "source": [
    "!python --version"
   ]
  },
  {
   "cell_type": "code",
   "execution_count": 2,
   "id": "c76d31f6",
   "metadata": {},
   "outputs": [
    {
     "name": "stdout",
     "output_type": "stream",
     "text": [
      "{'a': 'apple', 'b': 'banana', 'c': 'cat', 'd': 'dog', 'e': 'egg'}\n"
     ]
    }
   ],
   "source": [
    "my_dict = {\"a\": \"apple\", \"b\": \"banana\", \"c\": \"cat\", \"d\": \"dog\", \"e\": \"egg\"}\n",
    "print(my_dict)"
   ]
  },
  {
   "cell_type": "markdown",
   "id": "d185effb",
   "metadata": {},
   "source": [
    "### 2. Changeable"
   ]
  },
  {
   "cell_type": "code",
   "execution_count": 3,
   "id": "0ac5ba04",
   "metadata": {},
   "outputs": [
    {
     "name": "stdout",
     "output_type": "stream",
     "text": [
      "{'a': 'apple', 'b': 'banana', 'c': 'cat'}\n"
     ]
    }
   ],
   "source": [
    "my_dict = {\"a\": \"apple\", \"b\": \"banana\", \"c\": \"cat\"}\n",
    "print(my_dict)"
   ]
  },
  {
   "cell_type": "code",
   "execution_count": 4,
   "id": "b31b6b92-1cc5-4070-8b37-d7223abf1f21",
   "metadata": {},
   "outputs": [
    {
     "name": "stdout",
     "output_type": "stream",
     "text": [
      "{'a': 'apple', 'b': 'banana', 'c': 'cat', 'd': 'dog'}\n"
     ]
    }
   ],
   "source": [
    "# Adding in dictionary\n",
    "my_dict['d'] = \"dog\"\n",
    "print(my_dict)"
   ]
  },
  {
   "cell_type": "code",
   "execution_count": 5,
   "id": "fd9ec8cc-75eb-4b75-8fbf-bbbd79b979c7",
   "metadata": {},
   "outputs": [
    {
     "name": "stdout",
     "output_type": "stream",
     "text": [
      "{'b': 'banana', 'c': 'cat', 'd': 'dog'}\n"
     ]
    }
   ],
   "source": [
    "# Removing from dictionary\n",
    "my_dict.pop(\"a\")\n",
    "print(my_dict)"
   ]
  },
  {
   "cell_type": "code",
   "execution_count": 6,
   "id": "66f47305-9d10-4954-8e6c-cfc087029910",
   "metadata": {},
   "outputs": [
    {
     "name": "stdout",
     "output_type": "stream",
     "text": [
      "{'b': 'ball', 'c': 'cat', 'd': 'dog'}\n"
     ]
    }
   ],
   "source": [
    "# Updating item in dictionary\n",
    "my_dict['b'] = \"ball\"\n",
    "print(my_dict)"
   ]
  },
  {
   "cell_type": "markdown",
   "id": "528060e5-f359-4221-8c31-94fafeabaafb",
   "metadata": {},
   "source": [
    "### 3. Duplicate"
   ]
  },
  {
   "cell_type": "code",
   "execution_count": 7,
   "id": "5ddbdd7a-090e-4f28-ad27-ca6cad773cbc",
   "metadata": {},
   "outputs": [
    {
     "name": "stdout",
     "output_type": "stream",
     "text": [
      "{1: 'one', 2: 'two'}\n"
     ]
    }
   ],
   "source": [
    "my_dict = {1: \"one\", 2: \"two\", 2: \"two\"}\n",
    "print(my_dict)"
   ]
  },
  {
   "cell_type": "markdown",
   "id": "1a040184-b9db-4e04-ac3a-a5c519e43fbb",
   "metadata": {},
   "source": [
    "### 4. Access Dictionary Items"
   ]
  },
  {
   "cell_type": "code",
   "execution_count": 8,
   "id": "b876cd55-87f3-4845-9717-7cbce4be5379",
   "metadata": {},
   "outputs": [
    {
     "name": "stdout",
     "output_type": "stream",
     "text": [
      "{'a': 'apple', 'b': 'banana', 'c': 'cat', 'd': 'dog'}\n"
     ]
    }
   ],
   "source": [
    "my_dict = {'a': \"apple\", 'b': \"banana\", 'c': \"cat\", 'd': \"dog\"}\n",
    "print(my_dict)"
   ]
  },
  {
   "cell_type": "code",
   "execution_count": 9,
   "id": "c9366b01-04e9-45a9-a053-7b10564508e3",
   "metadata": {},
   "outputs": [
    {
     "name": "stdout",
     "output_type": "stream",
     "text": [
      "apple\n",
      "banana\n",
      "cat\n",
      "dog\n"
     ]
    }
   ],
   "source": [
    "# Access using key\n",
    "print(my_dict['a'])\n",
    "print(my_dict['b'])\n",
    "print(my_dict['c'])\n",
    "print(my_dict['d'])"
   ]
  },
  {
   "cell_type": "code",
   "execution_count": 10,
   "id": "26ca5ac1-b1e9-49bf-9fe6-918d5787e8ca",
   "metadata": {},
   "outputs": [
    {
     "name": "stdout",
     "output_type": "stream",
     "text": [
      "apple\n"
     ]
    }
   ],
   "source": [
    "# Access using key and get() method\n",
    "print(my_dict.get('a'))"
   ]
  },
  {
   "cell_type": "code",
   "execution_count": 11,
   "id": "0d7a9769-246a-4a22-953b-a1c85126e443",
   "metadata": {},
   "outputs": [
    {
     "name": "stdout",
     "output_type": "stream",
     "text": [
      "None\n"
     ]
    }
   ],
   "source": [
    "print(my_dict.get('z')) # This return None\n",
    "# print(my_dict['z'])     # This throw Error"
   ]
  },
  {
   "cell_type": "code",
   "execution_count": 12,
   "id": "98233357-d593-4eae-8cce-adc9ad59a2d3",
   "metadata": {},
   "outputs": [
    {
     "name": "stdout",
     "output_type": "stream",
     "text": [
      "dict_keys(['a', 'b', 'c', 'd'])\n"
     ]
    }
   ],
   "source": [
    "# Access all keys: keys() method\n",
    "print(my_dict.keys())"
   ]
  },
  {
   "cell_type": "code",
   "execution_count": 13,
   "id": "d88198c3-4748-4713-87f1-6e79d21d1c33",
   "metadata": {},
   "outputs": [
    {
     "name": "stdout",
     "output_type": "stream",
     "text": [
      "dict_values(['apple', 'banana', 'cat', 'dog'])\n"
     ]
    }
   ],
   "source": [
    "# Access all values: values() method\n",
    "print(my_dict.values())"
   ]
  },
  {
   "cell_type": "code",
   "execution_count": 14,
   "id": "90b331d2-94cc-4b29-a726-ceca06615769",
   "metadata": {},
   "outputs": [
    {
     "name": "stdout",
     "output_type": "stream",
     "text": [
      "dict_items([('a', 'apple'), ('b', 'banana'), ('c', 'cat'), ('d', 'dog')])\n"
     ]
    }
   ],
   "source": [
    "# Access all key-values pair: items() method\n",
    "print(my_dict.items())"
   ]
  },
  {
   "cell_type": "markdown",
   "id": "dfa12a30-d306-4f41-923f-5707f86cd824",
   "metadata": {},
   "source": [
    "### 5. Change Item"
   ]
  },
  {
   "cell_type": "code",
   "execution_count": 15,
   "id": "2b45d181-99a0-4bc1-9186-ae5f389a8496",
   "metadata": {},
   "outputs": [
    {
     "name": "stdout",
     "output_type": "stream",
     "text": [
      "{'a': 'apple', 'b': 'ball', 'c': 'cat'}\n"
     ]
    }
   ],
   "source": [
    "my_dict = {'a': 'apple', 'b': 'ball', 'c': 'cat'}\n",
    "print(my_dict)"
   ]
  },
  {
   "cell_type": "code",
   "execution_count": 16,
   "id": "6ee4975c-3ace-4488-9b4b-876f362fa4e3",
   "metadata": {},
   "outputs": [
    {
     "name": "stdout",
     "output_type": "stream",
     "text": [
      "{'a': 'apple', 'b': 'banana', 'c': 'cat'}\n"
     ]
    }
   ],
   "source": [
    "# Changing the dictionary item\n",
    "my_dict['b'] = 'banana'\n",
    "print(my_dict)"
   ]
  },
  {
   "cell_type": "markdown",
   "id": "8cb68bbd-0580-49e9-9833-026281b8ac1e",
   "metadata": {},
   "source": [
    "### 6. Add Item"
   ]
  },
  {
   "cell_type": "code",
   "execution_count": 17,
   "id": "7261c8d6-f94c-4cbb-894f-d41280e6440d",
   "metadata": {},
   "outputs": [
    {
     "name": "stdout",
     "output_type": "stream",
     "text": [
      "{'a': 'apple', 'b': 'banana', 'c': 'cat'}\n"
     ]
    }
   ],
   "source": [
    "my_dict = {'a': 'apple', 'b': 'banana', 'c': 'cat'}\n",
    "print(my_dict)"
   ]
  },
  {
   "cell_type": "code",
   "execution_count": 18,
   "id": "e0f1056a-71eb-4dfd-858c-d74d7dc1f339",
   "metadata": {},
   "outputs": [
    {
     "name": "stdout",
     "output_type": "stream",
     "text": [
      "{'a': 'apple', 'b': 'banana', 'c': 'cat', 'd': 'dog'}\n"
     ]
    }
   ],
   "source": [
    "# Adding a new item\n",
    "my_dict['d'] = 'dog'\n",
    "print(my_dict)"
   ]
  },
  {
   "cell_type": "markdown",
   "id": "36ec83b1-f788-48e3-9973-e538b677c50b",
   "metadata": {},
   "source": [
    "### 7. Remove Item"
   ]
  },
  {
   "cell_type": "code",
   "execution_count": 21,
   "id": "80c9dc6d-2804-4276-bc21-16a1cc5b9a1c",
   "metadata": {},
   "outputs": [
    {
     "name": "stdout",
     "output_type": "stream",
     "text": [
      "{'a': 'apple', 'b': 'banana', 'c': 'cat', 'd': 'dog'}\n"
     ]
    }
   ],
   "source": [
    "my_dict = {'a': 'apple', 'b': 'banana', 'c': 'cat', 'd': 'dog'}\n",
    "print(my_dict)"
   ]
  },
  {
   "cell_type": "code",
   "execution_count": 22,
   "id": "91aa10a6-5c2f-4eea-a727-477652c6ebff",
   "metadata": {},
   "outputs": [
    {
     "name": "stdout",
     "output_type": "stream",
     "text": [
      "apple\n",
      "{'b': 'banana', 'c': 'cat', 'd': 'dog'}\n"
     ]
    }
   ],
   "source": [
    "# Now removing an item using key\n",
    "print(my_dict.pop('a'))\n",
    "print(my_dict)"
   ]
  },
  {
   "cell_type": "code",
   "execution_count": 23,
   "id": "be012823-fa80-4bcf-aa96-411ea05a31aa",
   "metadata": {},
   "outputs": [
    {
     "name": "stdout",
     "output_type": "stream",
     "text": [
      "{}\n"
     ]
    }
   ],
   "source": [
    "# Clear the dictionary \n",
    "my_dict.clear()\n",
    "print(my_dict)"
   ]
  },
  {
   "cell_type": "markdown",
   "id": "b79e34f1-8bc5-4bf7-9999-2444ae3a751b",
   "metadata": {},
   "source": [
    "### 8. Loop"
   ]
  },
  {
   "cell_type": "code",
   "execution_count": 24,
   "id": "a0699c9a-d094-451e-b18d-38672a69f8e7",
   "metadata": {},
   "outputs": [
    {
     "name": "stdout",
     "output_type": "stream",
     "text": [
      "{'a': 'apple', 'b': 'banana', 'c': 'cat', 'd': 'dog'}\n"
     ]
    }
   ],
   "source": [
    "my_dict = {'a': 'apple', 'b': 'banana', 'c': 'cat', 'd': 'dog'}\n",
    "print(my_dict)"
   ]
  },
  {
   "cell_type": "code",
   "execution_count": 26,
   "id": "dd156974-c8ee-493f-b1b0-c4ecb50cec5b",
   "metadata": {},
   "outputs": [
    {
     "name": "stdout",
     "output_type": "stream",
     "text": [
      "a\n",
      "b\n",
      "c\n",
      "d\n"
     ]
    }
   ],
   "source": [
    "# Print keys of dictionary\n",
    "for x in my_dict:\n",
    "    print(x)"
   ]
  },
  {
   "cell_type": "code",
   "execution_count": 27,
   "id": "de2f539b-2b41-4cb4-8db9-2fae1501fb1e",
   "metadata": {},
   "outputs": [
    {
     "name": "stdout",
     "output_type": "stream",
     "text": [
      "a\n",
      "b\n",
      "c\n",
      "d\n"
     ]
    }
   ],
   "source": [
    "# Print keys of dictionary\n",
    "for x in my_dict.keys():\n",
    "    print(x)"
   ]
  },
  {
   "cell_type": "code",
   "execution_count": 28,
   "id": "9484e544-fb5f-4882-998d-dca684bc0b45",
   "metadata": {},
   "outputs": [
    {
     "name": "stdout",
     "output_type": "stream",
     "text": [
      "apple\n",
      "banana\n",
      "cat\n",
      "dog\n"
     ]
    }
   ],
   "source": [
    "# Print value of dictionary\n",
    "for x in my_dict:\n",
    "    print(my_dict[x])"
   ]
  },
  {
   "cell_type": "code",
   "execution_count": 29,
   "id": "93912d43-628d-45f4-b3ca-b4c208e9fff7",
   "metadata": {},
   "outputs": [
    {
     "name": "stdout",
     "output_type": "stream",
     "text": [
      "apple\n",
      "banana\n",
      "cat\n",
      "dog\n"
     ]
    }
   ],
   "source": [
    "# Print value of dictionary\n",
    "for x in my_dict.values():\n",
    "    print(x)"
   ]
  },
  {
   "cell_type": "code",
   "execution_count": 30,
   "id": "a971b4c3-3f5b-4ea7-9f53-e20e16df3364",
   "metadata": {},
   "outputs": [
    {
     "name": "stdout",
     "output_type": "stream",
     "text": [
      "a apple\n",
      "b banana\n",
      "c cat\n",
      "d dog\n"
     ]
    }
   ],
   "source": [
    "# Print key and values\n",
    "for x, y in my_dict.items():\n",
    "    print(x, y)"
   ]
  },
  {
   "cell_type": "markdown",
   "id": "59195a14-f5aa-4301-bd9f-40025062ef64",
   "metadata": {},
   "source": [
    "### 9. Dictionary Copy [copy()]"
   ]
  },
  {
   "cell_type": "code",
   "execution_count": 1,
   "id": "b8ac372e-befb-459d-8db9-6a6d1007dfc9",
   "metadata": {},
   "outputs": [
    {
     "name": "stdout",
     "output_type": "stream",
     "text": [
      "{'a': 'apple', 'b': 'banana', 'c': 'cat'}\n"
     ]
    }
   ],
   "source": [
    "my_dict = {'a': 'apple', 'b': 'banana', 'c': 'cat'}\n",
    "print(my_dict)"
   ]
  },
  {
   "cell_type": "code",
   "execution_count": 2,
   "id": "fe2c4d99-9eaf-4a3b-a81e-61c0455ab981",
   "metadata": {},
   "outputs": [
    {
     "name": "stdout",
     "output_type": "stream",
     "text": [
      "{'a': 'apple', 'b': 'banana', 'c': 'cat'}\n",
      "{'a': 'apple', 'b': 'banana', 'c': 'cat'}\n"
     ]
    }
   ],
   "source": [
    "my_copy = my_dict\n",
    "print(my_copy)\n",
    "print(my_dict)"
   ]
  },
  {
   "cell_type": "code",
   "execution_count": 3,
   "id": "89e5f83d-1c38-463a-9b03-c29224d121a9",
   "metadata": {},
   "outputs": [
    {
     "name": "stdout",
     "output_type": "stream",
     "text": [
      "{'a': 'apple', 'b': 'banana', 'c': 'cat', 'd': 'dog'}\n",
      "{'a': 'apple', 'b': 'banana', 'c': 'cat', 'd': 'dog'}\n"
     ]
    }
   ],
   "source": [
    "my_copy['d'] = 'dog'\n",
    "print(my_copy)\n",
    "print(my_dict)"
   ]
  },
  {
   "cell_type": "code",
   "execution_count": 6,
   "id": "f13c70a5-1378-43ee-a343-d61751f04981",
   "metadata": {},
   "outputs": [
    {
     "name": "stdout",
     "output_type": "stream",
     "text": [
      "{'a': 'apple', 'b': 'banana', 'c': 'cat', 'd': 'dog'}\n",
      "{'a': 'apple', 'b': 'banana', 'c': 'cat', 'd': 'dog'}\n"
     ]
    }
   ],
   "source": [
    "new_copy = my_dict.copy()\n",
    "print(new_copy)\n",
    "print(my_dict)"
   ]
  },
  {
   "cell_type": "code",
   "execution_count": 7,
   "id": "3db6f38e-7b06-451e-abc2-c506c0fff34e",
   "metadata": {},
   "outputs": [
    {
     "name": "stdout",
     "output_type": "stream",
     "text": [
      "{'a': 'apple', 'b': 'banana', 'c': 'cat', 'd': 'dog', 'e': 'egg'}\n",
      "{'a': 'apple', 'b': 'banana', 'c': 'cat', 'd': 'dog'}\n"
     ]
    }
   ],
   "source": [
    "new_copy['e'] = 'egg'\n",
    "print(new_copy)\n",
    "print(my_dict)"
   ]
  },
  {
   "cell_type": "markdown",
   "id": "7197f899-7821-4b08-a420-cec980bd826c",
   "metadata": {},
   "source": [
    "### 10. Important Dictionary Method"
   ]
  },
  {
   "cell_type": "markdown",
   "id": "8aec8fdd-4559-4baf-a028-47b5cf5dd5a1",
   "metadata": {},
   "source": [
    "| **Method**      | Description                                                                                           |\n",
    "|:----------------|:------------------------------------------------------------------------------------------------------|\n",
    "| **clear()**     | Removes all the elements from the dictionary                                                          |\n",
    "| **copy()**      | Returns a copy of the dictionary                                                                      |\n",
    "| **fromkeys()**  | Returns a dictionary with the specified keys and value                                                |\n",
    "| **get()**       | Returns the value of the specified key                                                                |\n",
    "| **items()**     | Returns a list containing a tuple for each key value pair                                             |\n",
    "| **keys()**      | Returns a list containing the dictionary's keys                                                       |\n",
    "| **pop()**       | Removes the element with the specified key                                                            |\n",
    "| **popitem()**   | Removes the last inserted key-value pair                                                              |\n",
    "| **setdefault()**| Returns the value of the specified key. If the key does not exist: insert the key, with the specified value |\n",
    "| **update()**    | Updates the dictionary with the specified key-value pairs                                              |\n",
    "| **values()**    | Returns a list of all the values in the dictionary                                                    |\n"
   ]
  }
 ],
 "metadata": {
  "kernelspec": {
   "display_name": "python-crash-course",
   "language": "python",
   "name": "python-crash-course"
  },
  "language_info": {
   "codemirror_mode": {
    "name": "ipython",
    "version": 3
   },
   "file_extension": ".py",
   "mimetype": "text/x-python",
   "name": "python",
   "nbconvert_exporter": "python",
   "pygments_lexer": "ipython3",
   "version": "3.11.3"
  },
  "toc": {
   "base_numbering": 1,
   "nav_menu": {},
   "number_sections": false,
   "sideBar": true,
   "skip_h1_title": false,
   "title_cell": "Table of Contents",
   "title_sidebar": "Contents",
   "toc_cell": false,
   "toc_position": {},
   "toc_section_display": true,
   "toc_window_display": false
  }
 },
 "nbformat": 4,
 "nbformat_minor": 5
}
